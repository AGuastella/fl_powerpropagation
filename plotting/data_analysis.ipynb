{
 "cells": [
  {
   "cell_type": "code",
   "execution_count": null,
   "metadata": {},
   "outputs": [],
   "source": [
    "# Write down all of your code for data analysis in this file.\n",
    "# Plot the data and save the figures/tables in the folders \"plots\" and \"tables\"\n",
    "import numpy as np\n",
    "import pandas as pd\n",
    "import matplotlib.pyplot as plt\n",
    "import seaborn as sns\n",
    " \n",
    "# Use TNR for all figures\n",
    "# to match paper templates\n",
    "plt.rcParams[\"font.family\"] = \"serif\"\n",
    "plt.rcParams['font.serif'] = ['Times New Roman'] + plt.rcParams['font.serif']\n",
    "\n",
    "# Whitegrid is most appropriate\n",
    "# for scientific papers\n",
    "sns.set_style(\"whitegrid\")\n",
    "\n",
    "# An optional colorblind palette\n",
    "# for figures\n",
    "CB_color_cycle = [ \"#377EB8\", \"#FF7F00\", \"#4DAF4A\",\n",
    "                   \"#F781BF\", \"#A65628\", \"#984EA3\",\n",
    "                  \"#999999\", \"#E41A1C\", \"#DEDE00\" ]"
   ]
  }
 ],
 "metadata": {
  "kernelspec": {
   "display_name": ".venv",
   "language": "python",
   "name": "python3"
  },
  "language_info": {
   "name": "python",
   "version": "3.11.6"
  }
 },
 "nbformat": 4,
 "nbformat_minor": 2
}
