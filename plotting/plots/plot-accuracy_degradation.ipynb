{
 "cells": [
  {
   "cell_type": "code",
   "execution_count": null,
   "metadata": {},
   "outputs": [],
   "source": [
    "\"\"\"Simple plotting script for the paper.\"\"\"\n",
    "\n",
    "import matplotlib.pyplot as plt\n",
    "\n",
    "# Define sparsity levels\n",
    "sparsity_levels = [90, 95, 99, 99.5, 99.9]\n",
    "\n",
    "# Model names to include\n",
    "# models = ['Resnet18', 'Resnet18+PP', 'ZeroFL', 'ZeroFL+PP', 'Power-SWAT']\n",
    "models = [\"Top-k\", \"ZeroFL\", \"SparseFedPP\"]\n",
    "\n",
    "# Model performance data (accuracy)\n",
    "performance_data = [\n",
    "    {\n",
    "        \"mean\": [80.56, 74.71, 66.27, 63.82, 31.79],\n",
    "        \"std\": [1.90, 3.29, 5.08, 2.41, 19.10],\n",
    "    },\n",
    "    # {'mean': [82.27, 81.53, 75.76, 70.89, 62.67],\n",
    "    # 'std': [2.21, 2.10, 1.78, 2.22, 2.19]},\n",
    "    {\n",
    "        \"mean\": [76.16, 75.53, 70.71, 56.02, 17.66],\n",
    "        \"std\": [1.298, 2.27, 0.15, 3.95, 8.34],\n",
    "    },\n",
    "    # {'mean': [80.48, 79.03, 64.80, 51.43, 43.32],\n",
    "    # 'std': [1.45, 1.92, 2.58, 3.66, 2.98]},\n",
    "    {\n",
    "        \"mean\": [82.13, 82.60, 77.71, 70.01, 60.39],\n",
    "        \"std\": [1.23, 1.58, 1.69, 0.43, 3.191],\n",
    "    },\n",
    "]\n",
    "# Resnet18 performance as a threshold (using first value as Resnet18 accuracy)\n",
    "resnet18_threshold = 83.7"
   ]
  },
  {
   "cell_type": "code",
   "execution_count": null,
   "metadata": {},
   "outputs": [],
   "source": [
    "plt.figure(figsize=(6, 4))\n",
    "\n",
    "# Plot each model's performance at different sparsity levels with error bars\n",
    "for i, model in enumerate(models):\n",
    "    mean_values = performance_data[i][\"mean\"]\n",
    "    std_values = performance_data[i][\"std\"]\n",
    "    plt.errorbar(sparsity_levels, mean_values, yerr=std_values, label=model, marker=\"o\")\n",
    "\n",
    "# Plot Resnet18 threshold line\n",
    "plt.axhline(\n",
    "    y=resnet18_threshold, color=\"gray\", linestyle=\"--\", label=\"Resnet18 (Dense)\"\n",
    ")\n",
    "\n",
    "# Set plot properties\n",
    "# plt.title('Model Performance at Different Sparsity Levels')\n",
    "plt.xlabel(\"Sparsity Level\", fontweight=\"bold\")  # Make x-axis label bold\n",
    "plt.ylabel(\"Test Accuracy (%)\", fontweight=\"bold\")  # Make y-axis label bold\n",
    "\n",
    "# plt.xticks(sparsity_levels)\n",
    "to_be_removed = 99.5\n",
    "xticks_labels = [\n",
    "    str(sparsity) if sparsity != to_be_removed else \"\" for sparsity in sparsity_levels\n",
    "]\n",
    "plt.xticks(sparsity_levels, xticks_labels)\n",
    "\n",
    "plt.ylim(0, 100)  # Set the y-axis limits\n",
    "\n",
    "plt.legend()\n",
    "plt.grid(True)\n",
    "plt.show()"
   ]
  }
 ],
 "metadata": {
  "kernelspec": {
   "display_name": "project-Z3wM8qng-py3.11",
   "language": "python",
   "name": "python3"
  },
  "language_info": {
   "codemirror_mode": {
    "name": "ipython",
    "version": 3
   },
   "file_extension": ".py",
   "mimetype": "text/x-python",
   "name": "python",
   "nbconvert_exporter": "python",
   "pygments_lexer": "ipython3",
   "version": "3.11.6"
  }
 },
 "nbformat": 4,
 "nbformat_minor": 2
}
