{
 "cells": [
  {
   "cell_type": "code",
   "execution_count": null,
   "metadata": {},
   "outputs": [],
   "source": [
    "\"\"\"Simple plotting script for the paper.\"\"\"\n",
    "\n",
    "import matplotlib.pyplot as plt\n",
    "\n",
    "# Define sparsity levels\n",
    "sparsity_levels = [90, 95, 99, 99.5, 99.9]\n",
    "\n",
    "# Model names to include\n",
    "# models = ['Resnet18', 'Resnet18+PP', 'ZeroFL', 'ZeroFL+PP', 'Power-SWAT']\n",
    "models = [\"Resnet18 + Top-k\", \"ZeroFL\", \"SparseFedPP\"]\n",
    "\n",
    "# Model performance data (accuracy)\n",
    "performance_data = [\n",
    "    {\n",
    "        \"mean\": [46.47, 13.45, 1.544, 0.9727, 0.9727],\n",
    "        \"std\": [1.741, 21.45, 1.218, 0.6382, 0.6382],\n",
    "    },\n",
    "    {\n",
    "        \"mean\": [44.11, 33.67, 10.59, 4.038, 0.8687],\n",
    "        \"std\": [0.9326, 3.342, 2.476, 3.434, 0.2148],\n",
    "    },\n",
    "    {\n",
    "        \"mean\": [54.44, 54.33, 47.62, 42.05, 13.85],\n",
    "        \"std\": [1.326, 1.475, 1.672, 1.214, 1.013],\n",
    "    },\n",
    "]\n",
    "# Resnet18 performance as a threshold (using first value as Resnet18 accuracy)\n",
    "resnet18_threshold = 53.79"
   ]
  },
  {
   "cell_type": "code",
   "execution_count": null,
   "metadata": {},
   "outputs": [],
   "source": [
    "plt.figure(figsize=(6, 4))\n",
    "\n",
    "# Plot each model's performance at different sparsity levels with error bars\n",
    "for i, model in enumerate(models):\n",
    "    mean_values = performance_data[i][\"mean\"]\n",
    "    std_values = performance_data[i][\"std\"]\n",
    "    plt.errorbar(sparsity_levels, mean_values, yerr=std_values, label=model, marker=\"o\")\n",
    "\n",
    "# Plot Resnet18 threshold line\n",
    "plt.axhline(\n",
    "    y=resnet18_threshold, color=\"gray\", linestyle=\"--\", label=\"Resnet18 (Dense)\"\n",
    ")\n",
    "\n",
    "# Set plot properties\n",
    "# plt.title('Model Performance at Different Sparsity Levels')\n",
    "plt.xlabel(\"Sparsity Level\", fontweight=\"bold\")  # Make x-axis label bold\n",
    "plt.ylabel(\"Test Accuracy (%)\", fontweight=\"bold\")  # Make y-axis label bold\n",
    "\n",
    "# plt.xticks(sparsity_levels)\n",
    "to_be_removed = 99.5\n",
    "xticks_labels = [\n",
    "    str(sparsity) if sparsity != to_be_removed else \"\" for sparsity in sparsity_levels\n",
    "]\n",
    "plt.xticks(sparsity_levels, xticks_labels)\n",
    "\n",
    "plt.ylim(0, 100)  # Set the y-axis limits\n",
    "\n",
    "plt.legend()\n",
    "plt.grid(True)\n",
    "plt.show()"
   ]
  }
 ],
 "metadata": {
  "kernelspec": {
   "display_name": "project-Z3wM8qng-py3.11",
   "language": "python",
   "name": "python3"
  },
  "language_info": {
   "codemirror_mode": {
    "name": "ipython",
    "version": 3
   },
   "file_extension": ".py",
   "mimetype": "text/x-python",
   "name": "python",
   "nbconvert_exporter": "python",
   "pygments_lexer": "ipython3",
   "version": "3.11.6"
  }
 },
 "nbformat": 4,
 "nbformat_minor": 2
}
