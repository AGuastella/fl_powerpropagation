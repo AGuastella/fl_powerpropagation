{
 "cells": [
  {
   "cell_type": "markdown",
   "metadata": {},
   "source": [
    "Layer sensitivity analysis\n"
   ]
  },
  {
   "cell_type": "code",
   "execution_count": null,
   "metadata": {},
   "outputs": [],
   "source": [
    "\"\"\"Layer sensitivity analysis.\"\"\"\n",
    "\n",
    "import pandas as pd\n",
    "import matplotlib.pyplot as plt\n",
    "import seaborn as sns"
   ]
  },
  {
   "cell_type": "code",
   "execution_count": null,
   "metadata": {},
   "outputs": [],
   "source": [
    "# Define the path to your CSV file\n",
    "file_path = (  # Update with your actual file path\n",
    "    \"wandb_export_2024-05-20T18_40_53.429+02_00.csv\"\n",
    ")\n",
    "\n",
    "# Read the first row to get the labels\n",
    "with open(file_path, encoding=\"utf-8\") as f:\n",
    "    labels = f.readline().strip().split(\",\")\n",
    "\n",
    "# Read the CSV file starting from the second row\n",
    "data = pd.read_csv(file_path, header=None, skiprows=1, names=labels)\n",
    "\n",
    "# Display the first few rows of the data to understand its structure\n",
    "# print(data.head())\n",
    "# print(data.head(1))"
   ]
  },
  {
   "cell_type": "code",
   "execution_count": null,
   "metadata": {},
   "outputs": [],
   "source": [
    "# Convert all columns to numeric, forcing errors to NaN\n",
    "data = data.apply(pd.to_numeric, errors=\"coerce\")\n",
    "\n",
    "# Extract the data columns (excluding the first index column)\n",
    "data_columns = data.iloc[:, 1:]"
   ]
  },
  {
   "cell_type": "code",
   "execution_count": null,
   "metadata": {},
   "outputs": [],
   "source": [
    "ZeroFL = 0.6\n",
    "# Plot Resnet18 threshold line\n",
    "\n",
    "\n",
    "# Define a color palette\n",
    "palette = sns.color_palette(\"Set2\", len(data_columns.columns))\n",
    "\n",
    "# Create a dictionary to map each column name to a color\n",
    "column_colors = dict(zip(data_columns.columns, palette, strict=True))\n",
    "\n",
    "# Create a line plot for each column using the assigned color\n",
    "plt.figure(figsize=(10, 5))\n",
    "for column in data_columns.columns:\n",
    "    if \"power\" not in column:\n",
    "        plt.plot(data[column], label=column, color=column_colors[column])\n",
    "\n",
    "plt.axhline(y=ZeroFL, color=\"grey\", linestyle=\"--\", label=\"ZeroFL\")\n",
    "plt.xlim(1, 100)\n",
    "plt.legend()\n",
    "plt.grid(True)\n",
    "plt.tight_layout()\n",
    "plt.show()\n",
    "\n",
    "# Create additional plots using the assigned colors\n",
    "for column in data_columns.columns:\n",
    "    if \"power\" not in column:\n",
    "        plt.figure(figsize=(5, 3))\n",
    "        plt.plot(data[column], label=column, color=column_colors[column])\n",
    "        plt.ylim(0, 1)  # Set y-axis limits from 0 to 100\n",
    "        plt.xlim(1, 100)\n",
    "        plt.legend()\n",
    "        plt.grid(True)\n",
    "        plt.tight_layout()\n",
    "        plt.axhline(y=ZeroFL, color=\"grey\", linestyle=\"--\", label=\"ZeroFL\")\n",
    "        plt.show()"
   ]
  }
 ],
 "metadata": {
  "kernelspec": {
   "display_name": "project-a6kP9-Cp-py3.11",
   "language": "python",
   "name": "python3"
  },
  "language_info": {
   "codemirror_mode": {
    "name": "ipython",
    "version": 3
   },
   "file_extension": ".py",
   "mimetype": "text/x-python",
   "name": "python",
   "nbconvert_exporter": "python",
   "pygments_lexer": "ipython3",
   "version": "3.11.6"
  }
 },
 "nbformat": 4,
 "nbformat_minor": 2
}
